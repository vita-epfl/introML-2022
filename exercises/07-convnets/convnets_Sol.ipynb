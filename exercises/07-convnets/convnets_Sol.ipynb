{
 "cells": [
  {
   "cell_type": "markdown",
   "id": "level-steps",
   "metadata": {},
   "source": [
    "# Convolutional Neural Networks - Solutions"
   ]
  },
  {
   "cell_type": "markdown",
   "id": "inner-dispatch",
   "metadata": {},
   "source": [
    "<hr style=\"clear:both\">\n",
    "\n",
    "This notebook is part of a series of exercises for the CIVIL-226 Introduction to Machine Learning for Engineers course at EPFL. Copyright (c) 2022 [VITA](https://www.epfl.ch/labs/vita/) lab at EPFL  \n",
    "Use of this source code is governed by an MIT-style license that can be found in the LICENSE file or at https://www.opensource.org/licenses/MIT\n",
    "\n",
    "**Author(s):** [David Mizrahi](mailto:david.mizrahi@epfl.ch)\n",
    "\n",
    "**2022 TAs:** [Brian Sifringer](mailto:brian.sifringer@epfl.ch), [Bastien Van Delft](mailto:bastien.vandelft@epfl.ch), [Taylor Mordan](mailto:taylor.mordan@epfl.ch), [Victor Dubien](mailto:victor.dubien@epfl.ch), [David Mizrahi](mailto:david.mizrahi@epfl.ch)\n",
    "\n",
    "<hr style=\"clear:both\">\n",
    "\n"
   ]
  },
  {
   "cell_type": "markdown",
   "id": "imported-agency",
   "metadata": {},
   "source": [
    "In this exercise, we'll build on what was done in the previous exercise and implement Convolutional Neural Nets with PyTorch."
   ]
  },
  {
   "cell_type": "markdown",
   "id": "induced-manual",
   "metadata": {},
   "source": [
    "*Run next cell to show tweet*"
   ]
  },
  {
   "cell_type": "code",
   "execution_count": 1,
   "id": "clean-imagination",
   "metadata": {},
   "outputs": [
    {
     "data": {
      "text/html": [
       "<blockquote class=\"twitter-tweet\" data-lang=\"en\" data-dnt=\"true\"><p lang=\"en\" dir=\"ltr\">A demo from 1993 of 32-year-old Yann LeCun showing off the world&#39;s first convolutional network for text recognition. <a href=\"https://twitter.com/hashtag/tbt?src=hash&amp;ref_src=twsrc%5Etfw\">#tbt</a> <a href=\"https://twitter.com/hashtag/ML?src=hash&amp;ref_src=twsrc%5Etfw\">#ML</a> <a href=\"https://twitter.com/hashtag/neuralnetworks?src=hash&amp;ref_src=twsrc%5Etfw\">#neuralnetworks</a> <a href=\"https://twitter.com/hashtag/CNNs?src=hash&amp;ref_src=twsrc%5Etfw\">#CNNs</a> <a href=\"https://twitter.com/hashtag/MachineLearning?src=hash&amp;ref_src=twsrc%5Etfw\">#MachineLearning</a> <a href=\"https://t.co/9eeibjJ4MK\">pic.twitter.com/9eeibjJ4MK</a></p>&mdash; MIT CSAIL #AAAI2021 (@MIT_CSAIL) <a href=\"https://twitter.com/MIT_CSAIL/status/1347237563342340097?ref_src=twsrc%5Etfw\">January 7, 2021</a></blockquote> <script async src=\"https://platform.twitter.com/widgets.js\" charset=\"utf-8\"></script> \n"
      ],
      "text/plain": [
       "<IPython.core.display.HTML object>"
      ]
     },
     "metadata": {},
     "output_type": "display_data"
    }
   ],
   "source": [
    "%%html\n",
    "<blockquote class=\"twitter-tweet\" data-lang=\"en\" data-dnt=\"true\"><p lang=\"en\" dir=\"ltr\">A demo from 1993 of 32-year-old Yann LeCun showing off the world&#39;s first convolutional network for text recognition. <a href=\"https://twitter.com/hashtag/tbt?src=hash&amp;ref_src=twsrc%5Etfw\">#tbt</a> <a href=\"https://twitter.com/hashtag/ML?src=hash&amp;ref_src=twsrc%5Etfw\">#ML</a> <a href=\"https://twitter.com/hashtag/neuralnetworks?src=hash&amp;ref_src=twsrc%5Etfw\">#neuralnetworks</a> <a href=\"https://twitter.com/hashtag/CNNs?src=hash&amp;ref_src=twsrc%5Etfw\">#CNNs</a> <a href=\"https://twitter.com/hashtag/MachineLearning?src=hash&amp;ref_src=twsrc%5Etfw\">#MachineLearning</a> <a href=\"https://t.co/9eeibjJ4MK\">pic.twitter.com/9eeibjJ4MK</a></p>&mdash; MIT CSAIL #AAAI2021 (@MIT_CSAIL) <a href=\"https://twitter.com/MIT_CSAIL/status/1347237563342340097?ref_src=twsrc%5Etfw\">January 7, 2021</a></blockquote> <script async src=\"https://platform.twitter.com/widgets.js\" charset=\"utf-8\"></script> "
   ]
  },
  {
   "cell_type": "markdown",
   "id": "metallic-police",
   "metadata": {},
   "source": [
    "Before we get started, you'll need to install the [`torchsummary` package](https://github.com/sksq96/pytorch-summary) for a specific section of the exercise.\n",
    "You can do so directly from the command line with:\n",
    "```\n",
    "pip install torchsummary\n",
    "```\n",
    "Make sure that you are in the correct conda environment before running that command."
   ]
  },
  {
   "cell_type": "markdown",
   "id": "minus-router",
   "metadata": {},
   "source": [
    "#### For Google Colab\n",
    "You can run this notebook in Google Colab using the following link: https://colab.research.google.com/github/vita-epfl/introML-2022/blob/main/exercises/07-convnets/convnets_Sol.ipynb"
   ]
  },
  {
   "cell_type": "code",
   "execution_count": 2,
   "id": "twenty-trauma",
   "metadata": {},
   "outputs": [],
   "source": [
    "try:\n",
    "    import google.colab\n",
    "    IN_COLAB = True\n",
    "except:\n",
    "    IN_COLAB = False\n",
    "    \n",
    "if IN_COLAB:\n",
    "    # Install torchsummary\n",
    "    !pip install torchsummary\n",
    "    # Clone the entire repo to access the files\n",
    "    !git clone -l -s https://github.com/vita-epfl/introML-2022.git cloned-repo\n",
    "    %cd cloned-repo/exercises/07-convnets/"
   ]
  },
  {
   "cell_type": "markdown",
   "id": "adult-sarah",
   "metadata": {},
   "source": [
    "## 1. Imports & set-up\n",
    "\n",
    "This part is nearly identical to last week's exercise on fully-connected neural networks.\n",
    "\n",
    "More specifically, we define:\n",
    "\n",
    "- the MNIST dataset & dataloader\n",
    "- the training & test loop\n",
    "- a 3-layer fully connected neural net (now called `three_layer_net` instead of `model`)\n",
    "\n",
    "Then this neural net is trained for 10 epochs. This time, we use **Adam instead of SGD** as our optimizer."
   ]
  },
  {
   "cell_type": "code",
   "execution_count": 3,
   "id": "special-agent",
   "metadata": {},
   "outputs": [],
   "source": [
    "# PyTorch & torchvision\n",
    "import torch\n",
    "import torch.nn as nn\n",
    "import torch.nn.functional as F\n",
    "import torch.optim as optim\n",
    "\n",
    "import torchvision\n",
    "import torchvision.transforms as transforms\n",
    "from torchvision.datasets import MNIST, FashionMNIST\n",
    "\n",
    "# torchsummary\n",
    "import torchsummary\n",
    "\n",
    "# Progress bar\n",
    "from tqdm.auto import tqdm\n",
    "\n",
    "# Helper files\n",
    "import helpers\n",
    "import metrics"
   ]
  },
  {
   "cell_type": "code",
   "execution_count": 4,
   "id": "rental-drove",
   "metadata": {},
   "outputs": [
    {
     "data": {
      "text/plain": [
       "'1.8.0'"
      ]
     },
     "execution_count": 4,
     "metadata": {},
     "output_type": "execute_result"
    }
   ],
   "source": [
    "torch.__version__"
   ]
  },
  {
   "cell_type": "code",
   "execution_count": 5,
   "id": "conservative-forum",
   "metadata": {},
   "outputs": [
    {
     "data": {
      "text/plain": [
       "'0.9.0a0'"
      ]
     },
     "execution_count": 5,
     "metadata": {},
     "output_type": "execute_result"
    }
   ],
   "source": [
    "torchvision.__version__"
   ]
  },
  {
   "cell_type": "markdown",
   "id": "endangered-vegetarian",
   "metadata": {},
   "source": [
    "As was done last exercise, here is a brief description of these imported packages:\n",
    "\n",
    "**PyTorch:**\n",
    "- `torch.nn` Contains the basic building blocks to implement neural nets (incl. different types of layers and loss functions) | [Documentation](https://pytorch.org/docs/stable/nn.html)\n",
    "- `torch.nn.functional` A functional (stateless) approach to torch.nn, often used for stateless objects (e.g. ReLU) | [Documentation](https://pytorch.org/docs/stable/nn.functional.html) | [More info](https://discuss.pytorch.org/t/what-is-the-difference-between-torch-nn-and-torch-nn-functional/33597/2)\n",
    "- `torch.optim` A package implementing various optimization algorithms, such as SGD and Adam | [Documentation](https://pytorch.org/docs/stable/optim.html)\n",
    "\n",
    "**torchvision:**\n",
    "- `torchvision.transforms` Common image transformations\n",
    "- `torchvision.datasets` Popular image datasets\n",
    "\n",
    "**`torchsummary`:** Provides additional information on network architecture\n",
    "\n",
    "**`tqdm`:** Popular package used to show progress bars | [Documentation](https://tqdm.github.io/)\n",
    "\n",
    "**`helpers`**: Contains functions to help visualize data and predictions\n",
    "\n",
    "**`metrics`:** Contains two simple classes that help keep track and compute the loss and accuracy over a training epoch"
   ]
  },
  {
   "cell_type": "markdown",
   "id": "organizational-helen",
   "metadata": {},
   "source": [
    "### Dataset & dataloader"
   ]
  },
  {
   "cell_type": "code",
   "execution_count": 6,
   "id": "metallic-slovak",
   "metadata": {},
   "outputs": [],
   "source": [
    "# Save dataset in a folder called \"/data\"\n",
    "root = \"data\"\n",
    "\n",
    "# transforms.ToTensor() is used to convert the downloaded PIL Image to a torch Tensor\n",
    "train_data = MNIST(root, train=True, transform=transforms.ToTensor(), download=True)\n",
    "test_data = MNIST(root, train=False, transform=transforms.ToTensor(), download=True)\n",
    "\n",
    "batch_size = 32\n",
    "# Reshuffle training data at every epoch, but not the test data \n",
    "train_loader = torch.utils.data.DataLoader(train_data, batch_size=batch_size, shuffle=True)\n",
    "test_loader = torch.utils.data.DataLoader(test_data, batch_size=batch_size, shuffle=False)"
   ]
  },
  {
   "cell_type": "code",
   "execution_count": 7,
   "id": "prime-haven",
   "metadata": {},
   "outputs": [
    {
     "name": "stdout",
     "output_type": "stream",
     "text": [
      "Images in training data: 60000\n",
      "Images in test data: 10000\n",
      "Mapping from targer value to class name:\n"
     ]
    },
    {
     "data": {
      "text/plain": [
       "{0: '0 - zero',\n",
       " 1: '1 - one',\n",
       " 2: '2 - two',\n",
       " 3: '3 - three',\n",
       " 4: '4 - four',\n",
       " 5: '5 - five',\n",
       " 6: '6 - six',\n",
       " 7: '7 - seven',\n",
       " 8: '8 - eight',\n",
       " 9: '9 - nine'}"
      ]
     },
     "execution_count": 7,
     "metadata": {},
     "output_type": "execute_result"
    }
   ],
   "source": [
    "print(f\"Images in training data: {len(train_data)}\")\n",
    "print(f\"Images in test data: {len(test_data)}\")\n",
    "# Show the mapping from target value to class name (if you're using MNIST, you won't be too surprised)\n",
    "print(\"Mapping from targer value to class name:\")\n",
    "{i: class_name for i, class_name in enumerate(train_data.classes)}"
   ]
  },
  {
   "cell_type": "code",
   "execution_count": 8,
   "id": "endangered-sarah",
   "metadata": {},
   "outputs": [
    {
     "data": {
      "image/png": "[encoded data removed]",
      "text/plain": [
       "<Figure size 432x288 with 1 Axes>"
      ]
     },
     "metadata": {
      "needs_background": "light"
     },
     "output_type": "display_data"
    },
    {
     "name": "stdout",
     "output_type": "stream",
     "text": [
      "tensor([[6, 4, 2, 7, 2, 1, 2, 8],\n",
      "        [0, 5, 5, 5, 0, 5, 7, 6],\n",
      "        [8, 7, 9, 1, 6, 2, 3, 1],\n",
      "        [2, 2, 8, 1, 8, 0, 8, 8]])\n"
     ]
    }
   ],
   "source": [
    "images, targets = iter(train_loader).next()\n",
    "helpers.imshow(torchvision.utils.make_grid(images, nrow=8))\n",
    "print(targets.reshape(-1, 8))"
   ]
  },
  {
   "cell_type": "markdown",
   "id": "certified-benefit",
   "metadata": {},
   "source": [
    "### Training loop & test accuracy"
   ]
  },
  {
   "cell_type": "code",
   "execution_count": 9,
   "id": "silver-transaction",
   "metadata": {},
   "outputs": [],
   "source": [
    "def train(model: torch.nn.Module, train_loader: torch.utils.data.DataLoader, loss_fn: torch.nn.Module, optimizer: torch.optim.Optimizer, epochs: int):\n",
    "    \n",
    "    # Initialize metrics for loss and accuracy\n",
    "    loss_metric = metrics.LossMetric()\n",
    "    acc_metric = metrics.AccuracyMetric(k=1)\n",
    "    \n",
    "    model.train()\n",
    "    \n",
    "    for epoch in range(1, epochs + 1):\n",
    "        \n",
    "        # Progress bar set-up\n",
    "        pbar = tqdm(total=len(train_loader), leave=True)\n",
    "        pbar.set_description(f\"Epoch {epoch}\")\n",
    "        \n",
    "        # Iterate through data\n",
    "        for data, target in train_loader:\n",
    "            \n",
    "            # Zero-out the gradients\n",
    "            optimizer.zero_grad()\n",
    "            \n",
    "            # Forward pass\n",
    "            out = model(data)\n",
    "            \n",
    "            # Compute loss\n",
    "            loss = loss_fn(out, target)\n",
    "            \n",
    "            # Backward pass\n",
    "            loss.backward()\n",
    "            \n",
    "            # Optimizer step\n",
    "            optimizer.step()\n",
    "\n",
    "            # Update metrics & progress bar\n",
    "            loss_metric.update(loss.item(), data.shape[0])\n",
    "            acc_metric.update(out, target)\n",
    "            pbar.update()\n",
    "            \n",
    "        # End of epoch, show loss and acc\n",
    "        pbar.set_postfix_str(f\"Train loss: {loss_metric.compute():.3f} | Train acc: {acc_metric.compute() * 100:.2f}%\")\n",
    "        loss_metric.reset()\n",
    "        acc_metric.reset()\n",
    "        \n",
    "def test(model: torch.nn.Module, dataloader: torch.utils.data.DataLoader):\n",
    "    \n",
    "    # Initialize accuracy metric\n",
    "    acc_metric = metrics.AccuracyMetric(k=1)\n",
    "    \n",
    "    # Progress bar set-up\n",
    "    pbar = tqdm(total=len(test_loader), leave=True)\n",
    "    \n",
    "    model.eval()\n",
    "    \n",
    "    with torch.no_grad(): \n",
    "        # Iterate through data\n",
    "        for data, target in dataloader:\n",
    "            \n",
    "            # Forward pass\n",
    "            out = model(data)\n",
    "            \n",
    "            # Update accuracy metric\n",
    "            acc_metric.update(out, target)\n",
    "\n",
    "            # Update progress bar\n",
    "            pbar.update()\n",
    "            \n",
    "    # End of epoch, show loss and acc\n",
    "    test_acc = acc_metric.compute() * 100\n",
    "    pbar.set_postfix_str(f\"Acc: {test_acc:.2f}%\")\n",
    "    print(f\"Accuracy is {test_acc:.2f}%\")"
   ]
  },
  {
   "cell_type": "markdown",
   "id": "eligible-territory",
   "metadata": {},
   "source": [
    "### Three layer fully-connected NN"
   ]
  },
  {
   "cell_type": "code",
   "execution_count": 10,
   "id": "heard-distance",
   "metadata": {},
   "outputs": [],
   "source": [
    "class ThreeLayerNet(nn.Module):\n",
    "    \"\"\"3-Layer neural net\"\"\"\n",
    "    \n",
    "    def __init__(self) -> None:\n",
    "        super().__init__()\n",
    "        self.fc1 = nn.Linear(784, 100)\n",
    "        self.fc2 = nn.Linear(100, 100)\n",
    "        self.fc3 = nn.Linear(100, 10)\n",
    "\n",
    "    def forward(self, x: torch.Tensor) -> torch.Tensor:\n",
    "        # Flatten to get tensor of shape (batch_size, 784)\n",
    "        x = x.flatten(start_dim=1)\n",
    "\n",
    "        x = F.relu(self.fc1(x))\n",
    "        x = F.relu(self.fc2(x))\n",
    "        out = self.fc3(x)\n",
    "        return out\n",
    "\n",
    "    def predict(self, x: torch.Tensor) -> torch.Tensor:\n",
    "        \"\"\"Predicts classes by calculating the softmax\"\"\"\n",
    "        logits = self.forward(x)\n",
    "        return F.softmax(logits, dim=1)\n",
    "\n",
    "# Note: Instance is called three_layer_net instead of model this time around\n",
    "three_layer_net = ThreeLayerNet()"
   ]
  },
  {
   "cell_type": "markdown",
   "id": "recreational-google",
   "metadata": {},
   "source": [
    "#### Loss & optimizer\n",
    "\n",
    "As before, we'll use the [Cross Entropy](https://pytorch.org/docs/stable/generated/torch.nn.CrossEntropyLoss.html) loss.\n",
    "\n",
    "However, this time, we'll switch up optimizers and use **[Adam](https://pytorch.org/docs/master/generated/torch.optim.Adam.html)** with the default settings for the learning rate and momentum. This should help us get faster convergence than with SGD.\n",
    "\n",
    "Implement both the loss and the optimizer in the next cell."
   ]
  },
  {
   "cell_type": "code",
   "execution_count": 11,
   "id": "compact-afghanistan",
   "metadata": {},
   "outputs": [],
   "source": [
    "### START CODE HERE ###\n",
    "# Cross-Entropy loss\n",
    "loss_fn = nn.CrossEntropyLoss()\n",
    "# Use Adam with default parameters\n",
    "optimizer = optim.Adam(three_layer_net.parameters())\n",
    "### END CODE HERE ###"
   ]
  },
  {
   "cell_type": "markdown",
   "id": "hazardous-healing",
   "metadata": {},
   "source": [
    "####  Training"
   ]
  },
  {
   "cell_type": "code",
   "execution_count": 12,
   "id": "collectible-passion",
   "metadata": {},
   "outputs": [
    {
     "data": {
      "application/vnd.jupyter.widget-view+json": {
       "model_id": "520475952424479daf602b1e6de4d55f",
       "version_major": 2,
       "version_minor": 0
      },
      "text/plain": [
       "  0%|          | 0/1875 [00:00<?, ?it/s]"
      ]
     },
     "metadata": {},
     "output_type": "display_data"
    },
    {
     "data": {
      "application/vnd.jupyter.widget-view+json": {
       "model_id": "def23b6e0b03491d9873798ee698be85",
       "version_major": 2,
       "version_minor": 0
      },
      "text/plain": [
       "  0%|          | 0/1875 [00:00<?, ?it/s]"
      ]
     },
     "metadata": {},
     "output_type": "display_data"
    },
    {
     "data": {
      "application/vnd.jupyter.widget-view+json": {
       "model_id": "5994753e30b942e48b064a03509f679d",
       "version_major": 2,
       "version_minor": 0
      },
      "text/plain": [
       "  0%|          | 0/1875 [00:00<?, ?it/s]"
      ]
     },
     "metadata": {},
     "output_type": "display_data"
    },
    {
     "data": {
      "application/vnd.jupyter.widget-view+json": {
       "model_id": "6a71fa69fbf2487e956a5faf235ad4be",
       "version_major": 2,
       "version_minor": 0
      },
      "text/plain": [
       "  0%|          | 0/1875 [00:00<?, ?it/s]"
      ]
     },
     "metadata": {},
     "output_type": "display_data"
    },
    {
     "data": {
      "application/vnd.jupyter.widget-view+json": {
       "model_id": "29227eaea0294fb8b8245e38fc474cee",
       "version_major": 2,
       "version_minor": 0
      },
      "text/plain": [
       "  0%|          | 0/1875 [00:00<?, ?it/s]"
      ]
     },
     "metadata": {},
     "output_type": "display_data"
    },
    {
     "data": {
      "application/vnd.jupyter.widget-view+json": {
       "model_id": "950f56bc5f6c4cb3acca8fab315b0e97",
       "version_major": 2,
       "version_minor": 0
      },
      "text/plain": [
       "  0%|          | 0/1875 [00:00<?, ?it/s]"
      ]
     },
     "metadata": {},
     "output_type": "display_data"
    },
    {
     "data": {
      "application/vnd.jupyter.widget-view+json": {
       "model_id": "9e21384e9b6e4219abb470caea74d3de",
       "version_major": 2,
       "version_minor": 0
      },
      "text/plain": [
       "  0%|          | 0/1875 [00:00<?, ?it/s]"
      ]
     },
     "metadata": {},
     "output_type": "display_data"
    },
    {
     "data": {
      "application/vnd.jupyter.widget-view+json": {
       "model_id": "ef038acce6e74ec38e45dbd1c790a636",
       "version_major": 2,
       "version_minor": 0
      },
      "text/plain": [
       "  0%|          | 0/1875 [00:00<?, ?it/s]"
      ]
     },
     "metadata": {},
     "output_type": "display_data"
    },
    {
     "data": {
      "application/vnd.jupyter.widget-view+json": {
       "model_id": "f4d696988dc74868b2f58ee4c69a162f",
       "version_major": 2,
       "version_minor": 0
      },
      "text/plain": [
       "  0%|          | 0/1875 [00:00<?, ?it/s]"
      ]
     },
     "metadata": {},
     "output_type": "display_data"
    },
    {
     "data": {
      "application/vnd.jupyter.widget-view+json": {
       "model_id": "6e09e4bc5a474b13956e28212cc1e292",
       "version_major": 2,
       "version_minor": 0
      },
      "text/plain": [
       "  0%|          | 0/1875 [00:00<?, ?it/s]"
      ]
     },
     "metadata": {},
     "output_type": "display_data"
    }
   ],
   "source": [
    "train(three_layer_net, train_loader, loss_fn, optimizer, epochs=10)"
   ]
  },
  {
   "cell_type": "code",
   "execution_count": 13,
   "id": "involved-painting",
   "metadata": {},
   "outputs": [
    {
     "data": {
      "application/vnd.jupyter.widget-view+json": {
       "model_id": "66ec2cb5a997433f92421fe2ed0ab620",
       "version_major": 2,
       "version_minor": 0
      },
      "text/plain": [
       "  0%|          | 0/313 [00:00<?, ?it/s]"
      ]
     },
     "metadata": {},
     "output_type": "display_data"
    },
    {
     "name": "stdout",
     "output_type": "stream",
     "text": [
      "Accuracy is 97.71%\n"
     ]
    }
   ],
   "source": [
    "test(three_layer_net, test_loader)"
   ]
  },
  {
   "cell_type": "markdown",
   "id": "romantic-hacker",
   "metadata": {},
   "source": [
    "**Expected result:** >96% test accuracy on MNIST"
   ]
  },
  {
   "cell_type": "markdown",
   "id": "wired-wound",
   "metadata": {},
   "source": [
    "## 2. LeNet"
   ]
  },
  {
   "cell_type": "markdown",
   "id": "personalized-evaluation",
   "metadata": {},
   "source": [
    "In this part, you'll implement a slightly modified version of LeNet5, a convolutional neural network proposed by [Yann Le Cun et al. in 1998](http://yann.lecun.com/exdb/publis/pdf/lecun-01a.pdf). LeNet was one of the earliest convolutional neural networks, and helped promote the development of deep learning. Your goal is to reproduce this network architecture from just the paper's figure (see below) and a few extra tips."
   ]
  },
  {
   "cell_type": "markdown",
   "id": "visible-briefs",
   "metadata": {},
   "source": [
    "#### LeNet5\n",
    "\n",
    "<img src=\"images/lenet.png\" width=900></img>"
   ]
  },
  {
   "cell_type": "markdown",
   "id": "mathematical-presentation",
   "metadata": {},
   "source": [
    "Here are some tips to help you with your implementation:\n",
    "\n",
    "- Our images are 28x28, but the figure shows 32x32 input images. Can you find a way to make our images fit? **Hint:**  `nn.Conv2d` has a padding parameter.\n",
    "- Both convolutional layers use 5x5 filters with stride 1\n",
    "- Use ReLU as your activation function\n",
    "- Ue Max-Pooling whenever subsampling is needed\n",
    "- You'll need to flatten your tensor at some point\n",
    "- No need to add softmax after the final layer, `nn.CrossEntropyLoss()` adds it automatically\n",
    "\n",
    "Furthermore, here is some helpful documentation:\n",
    "- [`torch.nn` documentation](https://pytorch.org/docs/stable/nn.html)\n",
    "- [`torch.nn.functional` documentation](https://pytorch.org/docs/stable/nn.functional.html)"
   ]
  },
  {
   "cell_type": "code",
   "execution_count": 14,
   "id": "willing-strip",
   "metadata": {},
   "outputs": [],
   "source": [
    "class LeNet(nn.Module):\n",
    "    \"\"\"LeNet5 from `\"Gradient-Based Learning Applied To Document Recognition\"\n",
    "    <http://yann.lecun.com/exdb/publis/pdf/lecun-98.pdf>`_\n",
    "    \"\"\"\n",
    "    \n",
    "    ### YOUR CODE HERE ### (Define __init__() and forward())\n",
    "\n",
    "    def __init__(self) -> None:\n",
    "        super().__init__()\n",
    "\n",
    "        self.conv1 = nn.Conv2d(1, 6, kernel_size=5, padding=2)\n",
    "        self.conv2 = nn.Conv2d(6, 16, kernel_size=5)\n",
    "        self.fc1 = nn.Linear(16 * 5 * 5, 120)\n",
    "        self.fc2 = nn.Linear(120, 84)\n",
    "        self.fc3 = nn.Linear(84, 10)\n",
    "        \n",
    "\n",
    "    def forward(self, x: torch.Tensor) -> torch.Tensor:\n",
    "        x = F.relu(self.conv1(x))\n",
    "        x = F.max_pool2d(x, 2)\n",
    "        x = F.relu(self.conv2(x))\n",
    "        x = F.max_pool2d(x, 2)\n",
    "        x = x.flatten(start_dim=1)\n",
    "        x = F.relu(self.fc1(x))\n",
    "        x = F.relu(self.fc2(x))\n",
    "        out = self.fc3(x)\n",
    "        return out\n",
    "    \n",
    "    ### END CODE HERE ###\n",
    "    \n",
    "    def predict(self, x: torch.Tensor) -> torch.Tensor:\n",
    "        \"\"\"Predicts classes by calculating the softmax\"\"\"\n",
    "        logits = self.forward(x)\n",
    "        return F.softmax(logits, dim=1)\n",
    "\n",
    "\n",
    "lenet = LeNet()"
   ]
  },
  {
   "cell_type": "code",
   "execution_count": 15,
   "id": "straight-virtue",
   "metadata": {},
   "outputs": [
    {
     "name": "stdout",
     "output_type": "stream",
     "text": [
      "torch.Size([32, 10])\n"
     ]
    }
   ],
   "source": [
    "# Check that a forward pass gives the correct output size\n",
    "print(lenet(images).shape)"
   ]
  },
  {
   "cell_type": "markdown",
   "id": "representative-judgment",
   "metadata": {},
   "source": [
    "**Expected output:** `torch.Size([32, 10])`"
   ]
  },
  {
   "cell_type": "code",
   "execution_count": 16,
   "id": "homeless-german",
   "metadata": {},
   "outputs": [],
   "source": [
    "### START CODE HERE ###\n",
    "# Cross-Entropy loss\n",
    "loss_fn = nn.CrossEntropyLoss()\n",
    "# Adam\n",
    "optimizer = optim.Adam(lenet.parameters())\n",
    "### END CODE HERE ###"
   ]
  },
  {
   "cell_type": "markdown",
   "id": "widespread-gross",
   "metadata": {},
   "source": [
    "####  Training"
   ]
  },
  {
   "cell_type": "code",
   "execution_count": 17,
   "id": "ceramic-clear",
   "metadata": {},
   "outputs": [
    {
     "data": {
      "application/vnd.jupyter.widget-view+json": {
       "model_id": "782777f8fed84272a4519dc50f277672",
       "version_major": 2,
       "version_minor": 0
      },
      "text/plain": [
       "  0%|          | 0/1875 [00:00<?, ?it/s]"
      ]
     },
     "metadata": {},
     "output_type": "display_data"
    },
    {
     "data": {
      "application/vnd.jupyter.widget-view+json": {
       "model_id": "069c67b7a0e84a49a6001fe2bc6721a2",
       "version_major": 2,
       "version_minor": 0
      },
      "text/plain": [
       "  0%|          | 0/1875 [00:00<?, ?it/s]"
      ]
     },
     "metadata": {},
     "output_type": "display_data"
    },
    {
     "data": {
      "application/vnd.jupyter.widget-view+json": {
       "model_id": "078b0f136dd34f909f07a889fcdddeb9",
       "version_major": 2,
       "version_minor": 0
      },
      "text/plain": [
       "  0%|          | 0/1875 [00:00<?, ?it/s]"
      ]
     },
     "metadata": {},
     "output_type": "display_data"
    },
    {
     "data": {
      "application/vnd.jupyter.widget-view+json": {
       "model_id": "90fb6139792e4594bfa0b110fc22faea",
       "version_major": 2,
       "version_minor": 0
      },
      "text/plain": [
       "  0%|          | 0/1875 [00:00<?, ?it/s]"
      ]
     },
     "metadata": {},
     "output_type": "display_data"
    },
    {
     "data": {
      "application/vnd.jupyter.widget-view+json": {
       "model_id": "730e56cf9ee24191b0c5e51542114e66",
       "version_major": 2,
       "version_minor": 0
      },
      "text/plain": [
       "  0%|          | 0/1875 [00:00<?, ?it/s]"
      ]
     },
     "metadata": {},
     "output_type": "display_data"
    },
    {
     "data": {
      "application/vnd.jupyter.widget-view+json": {
       "model_id": "8a87ad13f8994bb080256dd7a91d134b",
       "version_major": 2,
       "version_minor": 0
      },
      "text/plain": [
       "  0%|          | 0/1875 [00:00<?, ?it/s]"
      ]
     },
     "metadata": {},
     "output_type": "display_data"
    },
    {
     "data": {
      "application/vnd.jupyter.widget-view+json": {
       "model_id": "cbf11ac8e55f4769b29a6b0d6955120d",
       "version_major": 2,
       "version_minor": 0
      },
      "text/plain": [
       "  0%|          | 0/1875 [00:00<?, ?it/s]"
      ]
     },
     "metadata": {},
     "output_type": "display_data"
    },
    {
     "data": {
      "application/vnd.jupyter.widget-view+json": {
       "model_id": "9a43bcbcc52f40e1bafdab27e1a82b43",
       "version_major": 2,
       "version_minor": 0
      },
      "text/plain": [
       "  0%|          | 0/1875 [00:00<?, ?it/s]"
      ]
     },
     "metadata": {},
     "output_type": "display_data"
    },
    {
     "data": {
      "application/vnd.jupyter.widget-view+json": {
       "model_id": "9c6fb873e80940a8b47b74065ead2b8a",
       "version_major": 2,
       "version_minor": 0
      },
      "text/plain": [
       "  0%|          | 0/1875 [00:00<?, ?it/s]"
      ]
     },
     "metadata": {},
     "output_type": "display_data"
    },
    {
     "data": {
      "application/vnd.jupyter.widget-view+json": {
       "model_id": "b3f72ac745b94f55a9c41a2b5c98d3ad",
       "version_major": 2,
       "version_minor": 0
      },
      "text/plain": [
       "  0%|          | 0/1875 [00:00<?, ?it/s]"
      ]
     },
     "metadata": {},
     "output_type": "display_data"
    }
   ],
   "source": [
    "train(lenet, train_loader, loss_fn, optimizer, epochs=10)"
   ]
  },
  {
   "cell_type": "code",
   "execution_count": 18,
   "id": "built-arcade",
   "metadata": {},
   "outputs": [
    {
     "data": {
      "application/vnd.jupyter.widget-view+json": {
       "model_id": "ccfe85d1b7d94568a632376855a12aed",
       "version_major": 2,
       "version_minor": 0
      },
      "text/plain": [
       "  0%|          | 0/313 [00:00<?, ?it/s]"
      ]
     },
     "metadata": {},
     "output_type": "display_data"
    },
    {
     "name": "stdout",
     "output_type": "stream",
     "text": [
      "Accuracy is 99.03%\n"
     ]
    }
   ],
   "source": [
    "test(lenet, test_loader)"
   ]
  },
  {
   "cell_type": "markdown",
   "id": "macro-mailman",
   "metadata": {},
   "source": [
    "**Expected result:** >98% test accuracy on MNIST"
   ]
  },
  {
   "cell_type": "markdown",
   "id": "deadly-subscription",
   "metadata": {},
   "source": [
    "#### Visualizing predictions"
   ]
  },
  {
   "cell_type": "markdown",
   "id": "completed-establishment",
   "metadata": {},
   "source": [
    "Let's visualize some of these predictions with the help of `view_prediction()` from `helpers`."
   ]
  },
  {
   "cell_type": "code",
   "execution_count": 19,
   "id": "neural-computer",
   "metadata": {},
   "outputs": [
    {
     "data": {
      "image/png": "[encoded data removed]",
      "text/plain": [
       "<Figure size 432x504 with 2 Axes>"
      ]
     },
     "metadata": {
      "needs_background": "light"
     },
     "output_type": "display_data"
    },
    {
     "data": {
      "image/png": "[encoded data removed]",
      "text/plain": [
       "<Figure size 432x504 with 2 Axes>"
      ]
     },
     "metadata": {
      "needs_background": "light"
     },
     "output_type": "display_data"
    },
    {
     "data": {
      "image/png": "[encoded data removed]",
      "text/plain": [
       "<Figure size 432x504 with 2 Axes>"
      ]
     },
     "metadata": {
      "needs_background": "light"
     },
     "output_type": "display_data"
    },
    {
     "data": {
      "image/png": "[encoded data removed]",
      "text/plain": [
       "<Figure size 432x504 with 2 Axes>"
      ]
     },
     "metadata": {
      "needs_background": "light"
     },
     "output_type": "display_data"
    },
    {
     "data": {
      "image/png": "[encoded data removed]",
      "text/plain": [
       "<Figure size 432x504 with 2 Axes>"
      ]
     },
     "metadata": {
      "needs_background": "light"
     },
     "output_type": "display_data"
    }
   ],
   "source": [
    "images, _ = iter(test_loader).next()\n",
    "preds = lenet.predict(images)\n",
    "\n",
    "# Shows the image next to the classifier's softmax score\n",
    "# Show for the first 5 images (change value to see more images)\n",
    "for i in range(5):\n",
    "    helpers.view_prediction(images[i], preds[i], test_data.classes)"
   ]
  },
  {
   "cell_type": "markdown",
   "id": "modified-flush",
   "metadata": {},
   "source": [
    "## 3. Comparing networks"
   ]
  },
  {
   "cell_type": "markdown",
   "id": "fallen-arrival",
   "metadata": {},
   "source": [
    "We've successfully trained two models on the MNIST dataset. But how do they differ? To find out, we'll compare their test accuracy and their architecture."
   ]
  },
  {
   "cell_type": "markdown",
   "id": "biblical-alberta",
   "metadata": {},
   "source": [
    "#### Test accuracy"
   ]
  },
  {
   "cell_type": "code",
   "execution_count": 20,
   "id": "municipal-mercy",
   "metadata": {},
   "outputs": [
    {
     "name": "stdout",
     "output_type": "stream",
     "text": [
      "3-layer fully-connected net test accuracy:\n"
     ]
    },
    {
     "data": {
      "application/vnd.jupyter.widget-view+json": {
       "model_id": "a54c26c556c6429c932e7468a9a4a9f3",
       "version_major": 2,
       "version_minor": 0
      },
      "text/plain": [
       "  0%|          | 0/313 [00:00<?, ?it/s]"
      ]
     },
     "metadata": {},
     "output_type": "display_data"
    },
    {
     "name": "stdout",
     "output_type": "stream",
     "text": [
      "Accuracy is 97.71%\n"
     ]
    }
   ],
   "source": [
    "print(\"3-layer fully-connected net test accuracy:\")\n",
    "test(three_layer_net, test_loader)"
   ]
  },
  {
   "cell_type": "code",
   "execution_count": 21,
   "id": "motivated-artist",
   "metadata": {},
   "outputs": [
    {
     "name": "stdout",
     "output_type": "stream",
     "text": [
      "LeNet-5 test accuracy\n"
     ]
    },
    {
     "data": {
      "application/vnd.jupyter.widget-view+json": {
       "model_id": "7d2c90e34917464f8645f46fcca89815",
       "version_major": 2,
       "version_minor": 0
      },
      "text/plain": [
       "  0%|          | 0/313 [00:00<?, ?it/s]"
      ]
     },
     "metadata": {},
     "output_type": "display_data"
    },
    {
     "name": "stdout",
     "output_type": "stream",
     "text": [
      "Accuracy is 99.03%\n"
     ]
    }
   ],
   "source": [
    "print(\"LeNet-5 test accuracy\")\n",
    "test(lenet, test_loader)"
   ]
  },
  {
   "cell_type": "markdown",
   "id": "scenic-packet",
   "metadata": {},
   "source": [
    "#### Model size"
   ]
  },
  {
   "cell_type": "code",
   "execution_count": 22,
   "id": "undefined-serial",
   "metadata": {},
   "outputs": [
    {
     "name": "stdout",
     "output_type": "stream",
     "text": [
      "----------------------------------------------------------------\n",
      "        Layer (type)               Output Shape         Param #\n",
      "================================================================\n",
      "            Linear-1                  [-1, 100]          78,500\n",
      "            Linear-2                  [-1, 100]          10,100\n",
      "            Linear-3                   [-1, 10]           1,010\n",
      "================================================================\n",
      "Total params: 89,610\n",
      "Trainable params: 89,610\n",
      "Non-trainable params: 0\n",
      "----------------------------------------------------------------\n",
      "Input size (MB): 0.00\n",
      "Forward/backward pass size (MB): 0.00\n",
      "Params size (MB): 0.34\n",
      "Estimated Total Size (MB): 0.35\n",
      "----------------------------------------------------------------\n"
     ]
    }
   ],
   "source": [
    "torchsummary.summary(three_layer_net, (1, 28, 28), device=\"cpu\")"
   ]
  },
  {
   "cell_type": "code",
   "execution_count": 23,
   "id": "threaded-spine",
   "metadata": {},
   "outputs": [
    {
     "name": "stdout",
     "output_type": "stream",
     "text": [
      "----------------------------------------------------------------\n",
      "        Layer (type)               Output Shape         Param #\n",
      "================================================================\n",
      "            Conv2d-1            [-1, 6, 28, 28]             156\n",
      "            Conv2d-2           [-1, 16, 10, 10]           2,416\n",
      "            Linear-3                  [-1, 120]          48,120\n",
      "            Linear-4                   [-1, 84]          10,164\n",
      "            Linear-5                   [-1, 10]             850\n",
      "================================================================\n",
      "Total params: 61,706\n",
      "Trainable params: 61,706\n",
      "Non-trainable params: 0\n",
      "----------------------------------------------------------------\n",
      "Input size (MB): 0.00\n",
      "Forward/backward pass size (MB): 0.05\n",
      "Params size (MB): 0.24\n",
      "Estimated Total Size (MB): 0.29\n",
      "----------------------------------------------------------------\n"
     ]
    }
   ],
   "source": [
    "torchsummary.summary(lenet, (1, 28, 28), device=\"cpu\")"
   ]
  },
  {
   "cell_type": "markdown",
   "id": "expensive-render",
   "metadata": {},
   "source": [
    "**Questions:** \n",
    "- Which model has the highest accuracy?\n",
    "- Compare the number of trainable parameters (weights) in both networks? Where do most of LeNet's trainable parameters come from?\n",
    "- Which model takes longer to train? Look at the `it/s` metric displayed next to the progress bar."
   ]
  },
  {
   "cell_type": "markdown",
   "id": "touched-bobby",
   "metadata": {},
   "source": [
    "**Answers:** \n",
    "- LeNet performs slightly better, as it reaches ~99% accuracy on MNIST, while the 3-layer FC net gets ~97% accuracy.\n",
    "- Despite performing better, LeNet has slightly less trainable parameters than the 3 layer network. Also, notice that most of LeNet's weights come from the linear layers.\n",
    "- On CPU, LeNet takes longer to train (about 2x longer on our device). "
   ]
  },
  {
   "cell_type": "markdown",
   "id": "numerical-moldova",
   "metadata": {},
   "source": [
    "## 4. Mixing it up"
   ]
  },
  {
   "cell_type": "markdown",
   "id": "adolescent-migration",
   "metadata": {},
   "source": [
    "LeNet performs quite well on MNIST. But what would happen if we apply a fixed random permutation to the pixels of the images?\n",
    "\n",
    "To find out, we'll create a dataset we'll call permuted MNIST. It simply takes the original dataset, and permutes pixels before feeding images to the network."
   ]
  },
  {
   "cell_type": "markdown",
   "id": "published-lindsay",
   "metadata": {},
   "source": [
    "### Permuted MNIST"
   ]
  },
  {
   "cell_type": "code",
   "execution_count": 24,
   "id": "optimum-shoot",
   "metadata": {},
   "outputs": [],
   "source": [
    "# Fix random seed so permutation is identical across runs\n",
    "torch.manual_seed(42)\n",
    "perm_indices = torch.randperm(784)\n",
    "# Set back to random seed\n",
    "torch.random.seed()\n",
    "\n",
    "# The same permutation gets applied to each image \n",
    "permute_transform = transforms.Compose([transforms.ToTensor(), transforms.Lambda(lambda x: x.flatten()[perm_indices].reshape(1, 28, 28))])"
   ]
  },
  {
   "cell_type": "code",
   "execution_count": 25,
   "id": "pretty-phrase",
   "metadata": {},
   "outputs": [],
   "source": [
    "permuted_train_data = MNIST(root, train=True, transform=permute_transform, download=True)\n",
    "permuted_test_data = MNIST(root, train=False, transform=permute_transform, download=True)\n",
    "\n",
    "batch_size = 32\n",
    "permuted_train_loader = torch.utils.data.DataLoader(permuted_train_data, batch_size=batch_size, shuffle=True)\n",
    "permuted_test_loader = torch.utils.data.DataLoader(permuted_test_data, batch_size=batch_size, shuffle=False)"
   ]
  },
  {
   "cell_type": "code",
   "execution_count": 26,
   "id": "precise-zambia",
   "metadata": {},
   "outputs": [
    {
     "data": {
      "image/png": "[encoded data removed]",
      "text/plain": [
       "<Figure size 432x288 with 1 Axes>"
      ]
     },
     "metadata": {
      "needs_background": "light"
     },
     "output_type": "display_data"
    },
    {
     "name": "stdout",
     "output_type": "stream",
     "text": [
      "tensor([[7, 2, 1, 0, 4, 1, 4, 9],\n",
      "        [5, 9, 0, 6, 9, 0, 1, 5],\n",
      "        [9, 7, 3, 4, 9, 6, 6, 5],\n",
      "        [4, 0, 7, 4, 0, 1, 3, 1]])\n"
     ]
    }
   ],
   "source": [
    "# Visualize permuted images\n",
    "permuted_images, targets = iter(permuted_test_loader).next()\n",
    "helpers.imshow(torchvision.utils.make_grid(permuted_images, nrow=8))\n",
    "print(targets.reshape(-1, 8))"
   ]
  },
  {
   "cell_type": "markdown",
   "id": "engaged-sherman",
   "metadata": {},
   "source": [
    "Pretty hard for us humans to tell which digit is which, right?"
   ]
  },
  {
   "cell_type": "markdown",
   "id": "exposed-pendant",
   "metadata": {},
   "source": [
    "**Question:** Before starting the training process, how do you think this random permutation will affect the performance of the two networks (3-layer net and LeNet)?"
   ]
  },
  {
   "cell_type": "markdown",
   "id": "synthetic-torture",
   "metadata": {},
   "source": [
    "**Answer:** \n",
    "\n",
    "3-layer net is a fully connected neural net, which doesn't make any assumptions regarding the structure of our data. Therefore, it should be completely unaffected by the permutation (and the images gets flattened beforehand anyway).\n",
    "\n",
    "LeNet is a convolutional neural network which makes the explicit assumption that input are images (e.g. weight sharing, kernels & pooling layers only take into account neighboring parts of the images, etc...) so we should expect the accuracy to drop when permuting pixels, as the images lose their structure.\n"
   ]
  },
  {
   "cell_type": "markdown",
   "id": "liquid-colonial",
   "metadata": {},
   "source": [
    "### Training on permuted images"
   ]
  },
  {
   "cell_type": "markdown",
   "id": "cardiac-thousand",
   "metadata": {},
   "source": [
    "Let's now train our two network architectures on this permuted dataset. As only the dataset changes, the training procedure will be almost exactly the same as previously."
   ]
  },
  {
   "cell_type": "markdown",
   "id": "ordered-modem",
   "metadata": {},
   "source": [
    "#### Fully-connected NN (3-layer net)"
   ]
  },
  {
   "cell_type": "code",
   "execution_count": 27,
   "id": "noble-strategy",
   "metadata": {},
   "outputs": [
    {
     "data": {
      "application/vnd.jupyter.widget-view+json": {
       "model_id": "b6efb8ba105e48368684be4216399a25",
       "version_major": 2,
       "version_minor": 0
      },
      "text/plain": [
       "  0%|          | 0/1875 [00:00<?, ?it/s]"
      ]
     },
     "metadata": {},
     "output_type": "display_data"
    },
    {
     "data": {
      "application/vnd.jupyter.widget-view+json": {
       "model_id": "147ead02127547bdb53ac003caac62d2",
       "version_major": 2,
       "version_minor": 0
      },
      "text/plain": [
       "  0%|          | 0/1875 [00:00<?, ?it/s]"
      ]
     },
     "metadata": {},
     "output_type": "display_data"
    },
    {
     "data": {
      "application/vnd.jupyter.widget-view+json": {
       "model_id": "945a38d4fcf142c8a6c81f735e4a8166",
       "version_major": 2,
       "version_minor": 0
      },
      "text/plain": [
       "  0%|          | 0/1875 [00:00<?, ?it/s]"
      ]
     },
     "metadata": {},
     "output_type": "display_data"
    },
    {
     "data": {
      "application/vnd.jupyter.widget-view+json": {
       "model_id": "bd547c8728a24b5b9420b5febe5db92e",
       "version_major": 2,
       "version_minor": 0
      },
      "text/plain": [
       "  0%|          | 0/1875 [00:00<?, ?it/s]"
      ]
     },
     "metadata": {},
     "output_type": "display_data"
    },
    {
     "data": {
      "application/vnd.jupyter.widget-view+json": {
       "model_id": "b3a8a6e4b608459a8415c300f311d919",
       "version_major": 2,
       "version_minor": 0
      },
      "text/plain": [
       "  0%|          | 0/1875 [00:00<?, ?it/s]"
      ]
     },
     "metadata": {},
     "output_type": "display_data"
    },
    {
     "data": {
      "application/vnd.jupyter.widget-view+json": {
       "model_id": "3b065ff12d1042f289a7180dbc0372ee",
       "version_major": 2,
       "version_minor": 0
      },
      "text/plain": [
       "  0%|          | 0/1875 [00:00<?, ?it/s]"
      ]
     },
     "metadata": {},
     "output_type": "display_data"
    },
    {
     "data": {
      "application/vnd.jupyter.widget-view+json": {
       "model_id": "500f9358ca51424782359f36a8082b1b",
       "version_major": 2,
       "version_minor": 0
      },
      "text/plain": [
       "  0%|          | 0/1875 [00:00<?, ?it/s]"
      ]
     },
     "metadata": {},
     "output_type": "display_data"
    },
    {
     "data": {
      "application/vnd.jupyter.widget-view+json": {
       "model_id": "9d273a28386145e19e5d55a6d1d05d43",
       "version_major": 2,
       "version_minor": 0
      },
      "text/plain": [
       "  0%|          | 0/1875 [00:00<?, ?it/s]"
      ]
     },
     "metadata": {},
     "output_type": "display_data"
    },
    {
     "data": {
      "application/vnd.jupyter.widget-view+json": {
       "model_id": "67b27a2af3f0430f88b675057edcae41",
       "version_major": 2,
       "version_minor": 0
      },
      "text/plain": [
       "  0%|          | 0/1875 [00:00<?, ?it/s]"
      ]
     },
     "metadata": {},
     "output_type": "display_data"
    },
    {
     "data": {
      "application/vnd.jupyter.widget-view+json": {
       "model_id": "69aa4a54dd674332a82ae4d98927343b",
       "version_major": 2,
       "version_minor": 0
      },
      "text/plain": [
       "  0%|          | 0/1875 [00:00<?, ?it/s]"
      ]
     },
     "metadata": {},
     "output_type": "display_data"
    }
   ],
   "source": [
    "permuted_three_layer_net = ThreeLayerNet()\n",
    "loss_fn = nn.CrossEntropyLoss()\n",
    "optimizer = optim.Adam(permuted_three_layer_net.parameters())\n",
    "\n",
    "train(permuted_three_layer_net, permuted_train_loader, loss_fn, optimizer, epochs=10)"
   ]
  },
  {
   "cell_type": "code",
   "execution_count": 28,
   "id": "exposed-statement",
   "metadata": {},
   "outputs": [
    {
     "data": {
      "application/vnd.jupyter.widget-view+json": {
       "model_id": "4401966ade0c40c3b927f82e30e569ad",
       "version_major": 2,
       "version_minor": 0
      },
      "text/plain": [
       "  0%|          | 0/313 [00:00<?, ?it/s]"
      ]
     },
     "metadata": {},
     "output_type": "display_data"
    },
    {
     "name": "stdout",
     "output_type": "stream",
     "text": [
      "Accuracy is 96.96%\n"
     ]
    }
   ],
   "source": [
    "test(permuted_three_layer_net, permuted_test_loader)"
   ]
  },
  {
   "cell_type": "markdown",
   "id": "urban-richards",
   "metadata": {},
   "source": [
    "#### LeNet"
   ]
  },
  {
   "cell_type": "code",
   "execution_count": 29,
   "id": "bizarre-plenty",
   "metadata": {},
   "outputs": [
    {
     "data": {
      "application/vnd.jupyter.widget-view+json": {
       "model_id": "99ee675f45834217b48a46c676c02fb6",
       "version_major": 2,
       "version_minor": 0
      },
      "text/plain": [
       "  0%|          | 0/1875 [00:00<?, ?it/s]"
      ]
     },
     "metadata": {},
     "output_type": "display_data"
    },
    {
     "data": {
      "application/vnd.jupyter.widget-view+json": {
       "model_id": "061d5d4c96824026a3a1ecd550d32d5c",
       "version_major": 2,
       "version_minor": 0
      },
      "text/plain": [
       "  0%|          | 0/1875 [00:00<?, ?it/s]"
      ]
     },
     "metadata": {},
     "output_type": "display_data"
    },
    {
     "data": {
      "application/vnd.jupyter.widget-view+json": {
       "model_id": "65947c3642a74584b5fa0fd496018a8a",
       "version_major": 2,
       "version_minor": 0
      },
      "text/plain": [
       "  0%|          | 0/1875 [00:00<?, ?it/s]"
      ]
     },
     "metadata": {},
     "output_type": "display_data"
    },
    {
     "data": {
      "application/vnd.jupyter.widget-view+json": {
       "model_id": "b81b2a9af70a4fc2beea8eafcb53b9f1",
       "version_major": 2,
       "version_minor": 0
      },
      "text/plain": [
       "  0%|          | 0/1875 [00:00<?, ?it/s]"
      ]
     },
     "metadata": {},
     "output_type": "display_data"
    },
    {
     "data": {
      "application/vnd.jupyter.widget-view+json": {
       "model_id": "4df36af6babb41db84785bc216a3d11c",
       "version_major": 2,
       "version_minor": 0
      },
      "text/plain": [
       "  0%|          | 0/1875 [00:00<?, ?it/s]"
      ]
     },
     "metadata": {},
     "output_type": "display_data"
    },
    {
     "data": {
      "application/vnd.jupyter.widget-view+json": {
       "model_id": "d280bc8bbc4e406eb82ab4ae45b22e01",
       "version_major": 2,
       "version_minor": 0
      },
      "text/plain": [
       "  0%|          | 0/1875 [00:00<?, ?it/s]"
      ]
     },
     "metadata": {},
     "output_type": "display_data"
    },
    {
     "data": {
      "application/vnd.jupyter.widget-view+json": {
       "model_id": "8940ef94811e42688c825cfa6556593e",
       "version_major": 2,
       "version_minor": 0
      },
      "text/plain": [
       "  0%|          | 0/1875 [00:00<?, ?it/s]"
      ]
     },
     "metadata": {},
     "output_type": "display_data"
    },
    {
     "data": {
      "application/vnd.jupyter.widget-view+json": {
       "model_id": "69b1b0b53e784267b61bae7beaa25a18",
       "version_major": 2,
       "version_minor": 0
      },
      "text/plain": [
       "  0%|          | 0/1875 [00:00<?, ?it/s]"
      ]
     },
     "metadata": {},
     "output_type": "display_data"
    },
    {
     "data": {
      "application/vnd.jupyter.widget-view+json": {
       "model_id": "86fbf0e3b5804df689c5012b030a1161",
       "version_major": 2,
       "version_minor": 0
      },
      "text/plain": [
       "  0%|          | 0/1875 [00:00<?, ?it/s]"
      ]
     },
     "metadata": {},
     "output_type": "display_data"
    },
    {
     "data": {
      "application/vnd.jupyter.widget-view+json": {
       "model_id": "4d44d5593b244502bc171201fe767aa3",
       "version_major": 2,
       "version_minor": 0
      },
      "text/plain": [
       "  0%|          | 0/1875 [00:00<?, ?it/s]"
      ]
     },
     "metadata": {},
     "output_type": "display_data"
    }
   ],
   "source": [
    "permuted_lenet = LeNet()\n",
    "loss_fn = nn.CrossEntropyLoss()\n",
    "optimizer = optim.Adam(permuted_lenet.parameters())\n",
    "\n",
    "train(permuted_lenet, permuted_train_loader, loss_fn, optimizer, epochs=10)"
   ]
  },
  {
   "cell_type": "code",
   "execution_count": 30,
   "id": "banned-antique",
   "metadata": {},
   "outputs": [
    {
     "data": {
      "application/vnd.jupyter.widget-view+json": {
       "model_id": "edecaba75c6a4426b9f4494c6d6fb4d1",
       "version_major": 2,
       "version_minor": 0
      },
      "text/plain": [
       "  0%|          | 0/313 [00:00<?, ?it/s]"
      ]
     },
     "metadata": {},
     "output_type": "display_data"
    },
    {
     "name": "stdout",
     "output_type": "stream",
     "text": [
      "Accuracy is 95.79%\n"
     ]
    }
   ],
   "source": [
    "test(permuted_lenet, permuted_test_loader)"
   ]
  },
  {
   "cell_type": "markdown",
   "id": "chubby-shield",
   "metadata": {},
   "source": [
    "Our 3 layer net is completely unaffected by the permutation, while the accuracy of LeNet decreases.\n",
    "\n",
    "This is to be expected. A ConvNet makes the explicit assumption that the input are images, which allows it to encode certain properties into the architecture, while a fully-connected neural net makes no assumption of the sort. When these assumptions hold, a ConvNet performs quite well but suffers otherwise. Note that LeNet still performs quite well, in part thanks to the final few fully-connected layers, and because MNIST is a particularly easy dataset, where [most digits can be distinguished pretty well with just one pixel](https://gist.github.com/dgrtwo/aaef94ecc6a60cd50322c0054cc04478). \n",
    "\n",
    "As real-world images don't have all their pixels permuted by a malicious exercise maker, you can safely use ConvNets for most tasks involving images."
   ]
  },
  {
   "cell_type": "markdown",
   "id": "classical-request",
   "metadata": {},
   "source": [
    "Congratulations on finishing this exercise!"
   ]
  },
  {
   "cell_type": "markdown",
   "id": "local-cornwall",
   "metadata": {},
   "source": [
    "## Additional PyTorch resources\n",
    "- PyTorch basics: https://pytorch.org/tutorials/beginner/basics/intro.html\n",
    "- PyTorch cheat sheet: https://pytorch.org/tutorials/beginner/ptcheat.html\n",
    "- Other PyTorch tutorials: https://pytorch.org/tutorials/index.html\n",
    "- PyTorch recipes: https://pytorch.org/tutorials/recipes/recipes_index.html (bite-sized code examples on specific PyTorch features)\n",
    "- PyTorch examples: https://github.com/pytorch/examples"
   ]
  }
 ],
 "metadata": {
  "kernelspec": {
   "display_name": "Python 3 (ipykernel)",
   "language": "python",
   "name": "python3"
  },
  "language_info": {
   "codemirror_mode": {
    "name": "ipython",
    "version": 3
   },
   "file_extension": ".py",
   "mimetype": "text/x-python",
   "name": "python",
   "nbconvert_exporter": "python",
   "pygments_lexer": "ipython3",
   "version": "3.7.12"
  }
 },
 "nbformat": 4,
 "nbformat_minor": 5
}
